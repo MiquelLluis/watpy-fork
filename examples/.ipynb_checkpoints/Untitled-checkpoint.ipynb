{
 "cells": [
  {
   "cell_type": "code",
   "execution_count": 65,
   "metadata": {},
   "outputs": [],
   "source": [
    "import os\n",
    "import sys\n",
    "import json\n",
    "from subprocess import Popen, PIPE"
   ]
  },
  {
   "cell_type": "code",
   "execution_count": 58,
   "metadata": {},
   "outputs": [],
   "source": [
    "def run(cmd, workdir, out, verbose=False):\n",
    "    proc = Popen(cmd, cwd=workdir, stdout=PIPE,\n",
    "                 stderr=PIPE, universal_newlines=True)\n",
    "    \n",
    "    if verbose:\n",
    "        sl_out = []\n",
    "        while True:\n",
    "            line = proc.stdout.readline()\n",
    "            if not line:\n",
    "                break\n",
    "            else:\n",
    "                if line is not None:\n",
    "                    sys.stdout.write(line)\n",
    "                    sl_out.append(line)\n",
    "                #\n",
    "            #\n",
    "        #\n",
    "        sl_out = \"\".join(sl_out)\n",
    "    else:\n",
    "        sl_out, sl_err = proc.communicate()\n",
    "    #\n",
    "    if type(out)==str:\n",
    "        open(os.path.join(workdir, out), \"w\").write(out)\n",
    "        return out\n",
    "    #\n",
    "    elif out is not None:\n",
    "        return sl_out, sl_err\n",
    "    #\n",
    "#"
   ]
  },
  {
   "cell_type": "code",
   "execution_count": 62,
   "metadata": {},
   "outputs": [],
   "source": [
    "def clone_index(path, user, verbose=True):\n",
    "    out, err =run(['git', 'clone', 'git@10.140.115.145:aendrizzi/core_db.git'], path, True)\n",
    "    if verbose:\n",
    "        print err\n",
    "#"
   ]
  },
  {
   "cell_type": "code",
   "execution_count": 64,
   "metadata": {},
   "outputs": [
    {
     "name": "stdout",
     "output_type": "stream",
     "text": [
      "Cloning into 'core_db'...\n",
      "\n"
     ]
    }
   ],
   "source": [
    "clone_index(\"/data/aendrizzi/CoRe_DB_test/\")"
   ]
  },
  {
   "cell_type": "code",
   "execution_count": 136,
   "metadata": {},
   "outputs": [],
   "source": [
    "class CoRe_index:\n",
    "    \"\"\"\n",
    "    Contains routines to manage and manipulate the database index, \n",
    "    as well as \n",
    "    \"\"\"\n",
    "    def __init__(self, path, verbose=True):\n",
    "        self.path = path\n",
    "        if not os.path.isdir(os.path.join(self.path,'core_db')):\n",
    "            self.clone(verbose=verbose)\n",
    "        else:\n",
    "            self.pull(verbose=verbose)\n",
    "        #\n",
    "        self.list = self.read_index()\n",
    "        self.dict = self.list_to_dict(self.list)\n",
    "        \n",
    "    #\n",
    "      \n",
    "    def clone(self, dbdir='core_db', verbose=True):\n",
    "        \"\"\"\n",
    "        Clones the git repository of the index at self.path\n",
    "        \"\"\"\n",
    "        if dbdir == 'core_db':\n",
    "            git_repo = 'git@10.140.115.145:aendrizzi/%s.git' % dbdir\n",
    "        else:\n",
    "            git_repo = 'localguy@10.140.115.145:/home/localguy/%s.git' % dbdir\n",
    "        out, err =run(['git', 'clone', git_repo], self.path, True)\n",
    "        if verbose:\n",
    "            print out, err\n",
    "        #\n",
    "    #\n",
    "    \n",
    "    def pull(self, dbdir='core_db', verbose=True):\n",
    "        \"\"\"\n",
    "        Pulls changes in the git repository of the index at self.path\n",
    "        \"\"\"\n",
    "        workdir = os.path.join(self.path, dbdir)\n",
    "        out, err =run(['git', 'pull'], workdir, True)\n",
    "        if verbose:\n",
    "            print out, err\n",
    "        #\n",
    "    #\n",
    "    \n",
    "    def sync_database(self, path=None, db_list=None, verbose=True):\n",
    "        \"\"\"\n",
    "        Syncronizes the entries specified by the db_list argument:\n",
    "         - Found entries are updated with the git repository\n",
    "         - Missing entries are cloned from the git repository\n",
    "        \"\"\"\n",
    "        if not path: \n",
    "            path = self.path\n",
    "        if not db_list: \n",
    "            db_list = self.dict\n",
    "        for sim in db_list:\n",
    "            repo = sim.replace(':','_')\n",
    "            if os.path.isdir(os.path.join(path, repo)):\n",
    "                self.pull(dbdir=repo, verbose=verbose)\n",
    "            else:\n",
    "                self.clone(dbdir=repo, verbose=verbose)\n",
    "            #\n",
    "        #\n",
    "    #   \n",
    "    \n",
    "    def read_index(self):\n",
    "        \"\"\"\n",
    "        Reads the .json file into a list of dictionaries.\n",
    "        \"\"\"\n",
    "        db_json = json.load(open(os.path.join(self.path, 'core_db/json/DB_NR.json')))\n",
    "        return db_json['data']\n",
    "    #\n",
    "    \n",
    "    def find(self, key, value):\n",
    "        \"\"\"\n",
    "        Returns a subset of the index with the entries\n",
    "        that have the given value for the given key as \n",
    "        a python dictionary.\n",
    "        \"\"\"\n",
    "        subset = {}\n",
    "        for sim in self.dict:\n",
    "            entry = self.dict[sim]\n",
    "            if entry[key] == value:\n",
    "                subset[sim] = entry\n",
    "            #\n",
    "        #\n",
    "        return subset\n",
    "    #            \n",
    "    \n",
    "    def list_to_dict(self, i_list):\n",
    "        \"\"\"\n",
    "        Ports a list of python dictionaries into a dictionary\n",
    "        where the main keys are the database_key values of the \n",
    "        single dictionaries (easier to sort).\n",
    "        \"\"\"\n",
    "        py_dict = {}\n",
    "        for entry in i_list:\n",
    "            key = entry['database_key']\n",
    "            py_dict[key] = entry\n",
    "        #\n",
    "        return py_dict\n",
    "    #\n",
    "#"
   ]
  },
  {
   "cell_type": "code",
   "execution_count": 137,
   "metadata": {},
   "outputs": [
    {
     "name": "stdout",
     "output_type": "stream",
     "text": [
      "Already up-to-date.\n",
      "\n"
     ]
    }
   ],
   "source": [
    "db = CoRe_index(\"/data/aendrizzi/CoRe_DB_test/\")"
   ]
  },
  {
   "cell_type": "code",
   "execution_count": 138,
   "metadata": {},
   "outputs": [],
   "source": [
    "sub = db.find('id_eos', 'DD2')"
   ]
  },
  {
   "cell_type": "code",
   "execution_count": 139,
   "metadata": {},
   "outputs": [
    {
     "name": "stdout",
     "output_type": "stream",
     "text": [
      "Already up-to-date.\n",
      "\n",
      "Already up-to-date.\n",
      "\n",
      "Already up-to-date.\n",
      "\n",
      "Already up-to-date.\n",
      "\n",
      "Already up-to-date.\n",
      "\n",
      "Already up-to-date.\n",
      "\n",
      "Already up-to-date.\n",
      "\n",
      "Already up-to-date.\n",
      "\n"
     ]
    }
   ],
   "source": [
    "db.sync_database(db_list=sub)"
   ]
  },
  {
   "cell_type": "code",
   "execution_count": null,
   "metadata": {},
   "outputs": [],
   "source": []
  },
  {
   "cell_type": "code",
   "execution_count": null,
   "metadata": {},
   "outputs": [],
   "source": []
  }
 ],
 "metadata": {
  "kernelspec": {
   "display_name": "Python 2",
   "language": "python",
   "name": "python2"
  },
  "language_info": {
   "codemirror_mode": {
    "name": "ipython",
    "version": 2
   },
   "file_extension": ".py",
   "mimetype": "text/x-python",
   "name": "python",
   "nbconvert_exporter": "python",
   "pygments_lexer": "ipython2",
   "version": "2.7.15"
  }
 },
 "nbformat": 4,
 "nbformat_minor": 2
}
