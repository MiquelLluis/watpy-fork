{
 "cells": [
  {
   "cell_type": "markdown",
   "metadata": {},
   "source": [
    "# WATPY - CoRe Database Tutorial\n",
    "\n",
    "The watpy tool is Python3 compatible. Requires basic packages like *numpy* and *matplotlib* to function properly (see README). Please install the package before trying this tutorial with\n",
    "\n",
    "*sudo python setup.py install*\n",
    "\n",
    "or\n",
    "\n",
    "*python setup.py install --user*\n",
    "\n",
    "if you do not have admin permissions."
   ]
  },
  {
   "cell_type": "markdown",
   "metadata": {},
   "source": [
    "## 0. Database Structure and Initialization\n",
    "\n",
    "The CoRe Gravitational Wave Database is structured as follows:\n",
    "\n",
    "* A public GitLab server (found at FUTURE_PUBLIC_IP ) contains the *core_database* group \n",
    "* Inside the public access group are stored single projects containing each simulation for which data is available. Each project is identified by its database key (see below).\n",
    "* Together with the *data projects* is also a repository called *core_database_index* where information on the database entries is stored in the form of .json files.\n",
    "\n",
    "Following this tutorial you should be able to syncronize the database correctly on your local machine. Note that generic users do not have write permissions on the database, so before trying to add new entries to the database please make sure to contact one of the database managers.\n",
    "\n",
    "### 0.1 Database Index and Database Initialization\n",
    "\n",
    "First of all, import the module containing the routines necessary for the database index operations"
   ]
  },
  {
   "cell_type": "code",
   "execution_count": 1,
   "metadata": {},
   "outputs": [],
   "source": [
    "from db_utilities.index import *"
   ]
  },
  {
   "cell_type": "markdown",
   "metadata": {},
   "source": [
    "It is now possible to initialize an *index object*, specifying the path where we would like the CoRe database to be initialized."
   ]
  },
  {
   "cell_type": "code",
   "execution_count": 7,
   "metadata": {},
   "outputs": [
    {
     "name": "stdout",
     "output_type": "stream",
     "text": [
      "Index found, updating...\n",
      "\n",
      " \n"
     ]
    }
   ],
   "source": [
    "# This path can be an absolute or relative to the working directory\n",
    "db_path = '/path/to/CoRe_DB_dir'\n",
    "\n",
    "idb = CoRe_index(db_path, lfs=True)"
   ]
  },
  {
   "cell_type": "markdown",
   "metadata": {},
   "source": [
    "Initializing the *CoRe_index* object will clone the *core_database_index* in *db_path*, or syncronize it to the latest version in case the repository already exists.\n",
    "\n",
    "It is now possible to syncronize the entire database via the *CoRe_index* object using the following (you can forego the *verbose* argument if you would rather have some reassuring on what's happening):"
   ]
  },
  {
   "cell_type": "code",
   "execution_count": 3,
   "metadata": {},
   "outputs": [],
   "source": [
    "idb.sync_database(lfs=True, verbose=False)"
   ]
  },
  {
   "cell_type": "markdown",
   "metadata": {},
   "source": [
    "Since the entire database is quite large, users might want to syncronize only the part of the database they intend to use. In this case, the *find(key, value)* routine of the *CoRe_index* object allows users to create a python dictionary of the simulations in the database that correspond to the indicated combination of *key* and *value* in their respective metadata dictionaries (of which the index is composed). Here we show the case of a user syncronizing only the simulations in the database whose Equation of State (EOS) is DD2."
   ]
  },
  {
   "cell_type": "code",
   "execution_count": 11,
   "metadata": {},
   "outputs": [
    {
     "name": "stdout",
     "output_type": "stream",
     "text": [
      " Cloning into 'THC_0013'...\n",
      "\n",
      " Cloning into 'THC_0012'...\n",
      "\n",
      " Cloning into 'THC_0011'...\n",
      "\n",
      " \n",
      " Cloning into 'THC_0015'...\n",
      "\n",
      " Cloning into 'THC_0014'...\n",
      "\n",
      " Cloning into 'THC_0016'...\n",
      "\n",
      " Cloning into 'THC_0010'...\n",
      "\n"
     ]
    }
   ],
   "source": [
    "# here dd2 is a python dictionary, whose keys are the database keys of the simulations\n",
    "dd2 = idb.find('id_eos', 'DD2')\n",
    "\n",
    "# Giving the sync_database the db_list argument explicitly we enforce the syncronization/cloning only of the \n",
    "# database entries whose keys are in the given list.\n",
    "idb.sync_database(db_list=dd2.keys(), verbose=True, lfs=True, prot='https')"
   ]
  },
  {
   "cell_type": "markdown",
   "metadata": {},
   "source": [
    "## 1. Database, Simulation and Run utilities\n",
    "\n",
    "Once the database has been syncronized locally it is possible to use this tool to manage the database data and produce quick plots of its contents.\n",
    "\n",
    "First of all, import the database utilities "
   ]
  },
  {
   "cell_type": "code",
   "execution_count": 5,
   "metadata": {},
   "outputs": [],
   "source": [
    "from db_utilities.dbutils import *"
   ]
  },
  {
   "cell_type": "markdown",
   "metadata": {},
   "source": [
    "With the classes contained in the above module one only needs the path to where all the repositories containing data from the simulations from the CoRe GW database are situated.\n",
    "\n",
    "First, one can recover the metadata for all available simulations with"
   ]
  },
  {
   "cell_type": "code",
   "execution_count": 6,
   "metadata": {
    "scrolled": false
   },
   "outputs": [],
   "source": [
    "cdb = CoRe_database(db_path)"
   ]
  },
  {
   "cell_type": "markdown",
   "metadata": {},
   "source": [
    "Once the database object is created, it is possible to manipulate the list of simulations contained in it. This is important if one only wants to work on a subset of the entire database. The simplest manipulation is to select a subset of the database by selecting only runs that possess a certain value of a metadata keyord entry (e.g., EOS, ADM mass, ... )"
   ]
  },
  {
   "cell_type": "code",
   "execution_count": 7,
   "metadata": {},
   "outputs": [],
   "source": [
    "db_subset = cdb.find('id_eos', 'SLy')"
   ]
  },
  {
   "cell_type": "code",
   "execution_count": 8,
   "metadata": {},
   "outputs": [
    {
     "data": {
      "text/plain": [
       "dict_keys(['BAM:0125', 'BAM:0115', 'BAM:0118', 'BAM:0122', 'BAM:0100', 'BAM:0126', 'BAM:0102', 'BAM:0109', 'BAM:0112', 'BAM:0097', 'BAM:0120', 'BAM:0106', 'BAM:0114', 'BAM:0124', 'BAM:0110', 'BAM:0123', 'BAM:0095', 'BAM:0098', 'BAM:0119', 'BAM:0099', 'BAM:0104', 'BAM:0096', 'BAM:0117', 'BAM:0127', 'BAM:0101', 'BAM:0105', 'BAM:0116', 'BAM:0108', 'BAM:0111', 'THC:0036', 'BAM:0103', 'BAM:0128', 'BAM:0107', 'BAM:0121', 'BAM:0113'])"
      ]
     },
     "execution_count": 8,
     "metadata": {},
     "output_type": "execute_result"
    }
   ],
   "source": [
    "db_subset.keys()"
   ]
  },
  {
   "cell_type": "markdown",
   "metadata": {},
   "source": [
    "*db_subset* is now a python dictionary where the keys are the simulations' *database_keys* and the values are *Core_Simulation* objects."
   ]
  },
  {
   "cell_type": "code",
   "execution_count": 9,
   "metadata": {},
   "outputs": [],
   "source": [
    "bam1 = cdb.sims['BAM:0001']"
   ]
  },
  {
   "cell_type": "markdown",
   "metadata": {},
   "source": [
    "The *CoRe_simulation* object contains all information on the number of runs available for that set of initial data, as well as the required routines to extract the data from the HDF5 archive into readable text files that can be easily loaded into python for plots and/or further analysis."
   ]
  },
  {
   "cell_type": "code",
   "execution_count": 10,
   "metadata": {},
   "outputs": [
    {
     "name": "stdout",
     "output_type": "stream",
     "text": [
      "['R02', 'R03', 'R01', 'R04']\n"
     ]
    }
   ],
   "source": [
    "print(bam1.runs_id)\n",
    "\n",
    "r01 = bam1.runs['R01']"
   ]
  },
  {
   "cell_type": "markdown",
   "metadata": {},
   "source": [
    "Once we select the desired run, we can extract data via the h5 sub-class. We can choose what to extract ($h$, $\\Psi_4$ or the energetics of the waveform) or just extract everything in the same directory where the original HDF5 archive was stored. \n",
    "\n",
    "**PLEASE NOTE THAT THE EXTRACTED FILES ARE NOT TRACKED BY THE REPOSITORY, AND SHOULD NOT BE ADDED TO ANY COMMIT. ONLY THE HDF5 ARCHIVE SHOULD BE PUSHED TO THE REPOSITORY AFTER A SIGNIFICANT (AND APPROVED) CHANGE**"
   ]
  },
  {
   "cell_type": "code",
   "execution_count": 11,
   "metadata": {},
   "outputs": [],
   "source": [
    "r01.h5.extract_all()"
   ]
  },
  {
   "cell_type": "markdown",
   "metadata": {},
   "source": [
    "It is now possible to easily load the .txt files via usual python means (numpy.loadtxt or analogous modules). Another option is to use the *extract_h()* (or *extract_p4()*, *extract_ej()* for the other data) with the \"return\" keyword set to \"True\""
   ]
  },
  {
   "cell_type": "code",
   "execution_count": 12,
   "metadata": {},
   "outputs": [
    {
     "name": "stdout",
     "output_type": "stream",
     "text": [
      "File exists, going on...\n",
      "File exists, going on...\n",
      "File exists, going on...\n",
      "File exists, going on...\n",
      "File exists, going on...\n",
      "File exists, going on...\n"
     ]
    }
   ],
   "source": [
    "u, h = r01.h5.extract_h(return_h=True)"
   ]
  },
  {
   "cell_type": "markdown",
   "metadata": {},
   "source": [
    "In this case we return the time as the tortoise coordinate $u$ and the complex-valued strain $h$"
   ]
  },
  {
   "cell_type": "code",
   "execution_count": 13,
   "metadata": {},
   "outputs": [
    {
     "data": {
      "image/png": "[encoded data removed]",
      "text/plain": [
       "<Figure size 432x288 with 1 Axes>"
      ]
     },
     "metadata": {
      "needs_background": "light"
     },
     "output_type": "display_data"
    }
   ],
   "source": [
    "from matplotlib import pyplot as plt\n",
    "\n",
    "# Set appropriate size for legend entries\n",
    "params = {'legend.fontsize': 14,\n",
    "          'legend.handlelength': 2}\n",
    "plt.rcParams.update(params)\n",
    "\n",
    "# Set axis labels\n",
    "plt.xlabel(r'$u\\, M_\\odot$', fontsize=14)\n",
    "plt.ylabel(r'$h$', fontsize=14)\n",
    "\n",
    "# Plot real and imaginary part of the strain\n",
    "plt.plot(u,h.real, label=r'$\\mathcal{Re}\\, (h)$')\n",
    "plt.plot(u,h.imag, label=r'$\\mathcal{Ie}\\, (h)$')\n",
    "\n",
    "# Plot legend\n",
    "plt.legend(ncol=1, loc='upper right')\n",
    "\n",
    "# Fix range\n",
    "plt.xlim([u.min(), u.max()]);"
   ]
  },
  {
   "cell_type": "markdown",
   "metadata": {},
   "source": [
    "## 2. New database entry setup\n",
    "\n",
    "*Classes from base/wave.py and db_utilities/db_utils.py*\n",
    "\n",
    "Watpy contains routines to create appropriately formatted data for adding a new entry to the CoRe Database. At the moment both WhiskyTHC and BAM simulations can be processed automatically, after following a specific procedure (described below). Please make sure the data is indeed in the correct format, and that metadata files have been correctly compiled/updated before pushing changes to an existing repository (or creating a new repository if the model was not already present in the database).\n"
   ]
  },
  {
   "cell_type": "markdown",
   "metadata": {},
   "source": [
    "The first steps are in common for both codes. \n",
    "\n",
    "* Setup new folder with the correct directory tree. You will be notified whether the new run has been added to an existing entry or if a new one has been created. The routine returns the *database_key* of the new/updated entry"
   ]
  },
  {
   "cell_type": "code",
   "execution_count": 10,
   "metadata": {},
   "outputs": [
    {
     "name": "stdout",
     "output_type": "stream",
     "text": [
      "Created new database entry THC:0037.\n"
     ]
    }
   ],
   "source": [
    "new_dbkey = cdb.setup_new_run('THC_fake_test_run', 'THC')\n",
    "#rep_dbkey = cdb.setup_new_run('MS1b_1.375_1.375_0.11_0.00_0.0348_0.167', 'BAM')"
   ]
  },
  {
   "cell_type": "markdown",
   "metadata": {},
   "source": [
    " * In either case, we now need to fill the metadata appropriately. If a new entry has been created, a new *metadata_main.txt* and *metadata.txt* must be created. If the run has been added to an existing entry, the *available_resolutions* key of *metadata_main.txt* will be updated and a new *metadata.txt* for the new run will be created."
   ]
  },
  {
   "cell_type": "code",
   "execution_count": 13,
   "metadata": {
    "scrolled": true
   },
   "outputs": [
    {
     "name": "stdout",
     "output_type": "stream",
     "text": [
      "Empty database entry!\n",
      "No .h5 file found!\n",
      "['database_key', 'simulation_name', 'available_resolutions', 'reference_bibkeys', 'id_code', 'id_type', 'id_mass', 'id_rest_mass', 'id_mass_ratio', 'id_ADM_mass', 'id_ADM_angularmomentum', 'id_gw_frequency_Hz', 'id_gw_frequency_Momega22', 'id_eos', 'id_kappa2T', 'id_Lambda', 'id_mass_starA', 'id_rest_mass_starA', 'id_spin_starA', 'id_LoveNum_kell_starA', 'id_Lambdaell_starA', 'id_mass_starB', 'id_rest_mass_starB', 'id_spin_starB', 'id_LoveNum_kell_starB', 'id_Lambdaell_starB', 'evolution_code', 'grid_refinement_levels', 'grid_refinement_levels_moving', 'grid_refinement_levels_npoints', 'grid_refinement_levels_moving_npoints', 'grid_spacing_min', 'grid_symmetries', 'grid_shells', 'grid_shells_radial_npoints', 'grid_shells_angular_npoints', 'grid_conservative_amr', 'metric_scheme', 'metric_boundary_conditions', 'hydro_flux', 'hydro_reconstruction', 'hydro_atmosphere_level', 'hydro_atmosphere_factor', 'number_of_orbits', 'evolution_mol_scheme', 'eos_evolution_Gamma_thermal']\n"
     ]
    }
   ],
   "source": [
    "# First, we create a simulation object. Note that if the entry was already existing, we can take this from cdb.sims\n",
    "new_sim = CoRe_simulation(os.path.join(cdb.path,new_dbkey.replace(':','_')))\n",
    "#rep_sim = CoRe_simulation(rep_dbkey.replace(':','_'))\n",
    "\n",
    "# Now we must create the metadata for the last added run (for a new entry this is just R01)\n",
    "# We can also look at which keys are required by calling mdu.keys\n",
    "print(mdu.keys)\n",
    "\n",
    "mdata_n = {}\n",
    "mdata_r = {}\n",
    "\n",
    "for key in mdu.keys:\n",
    "    mdata_n[key] = None\n",
    "    mdata_r[key] = None\n",
    "#\n",
    "\n",
    "# All keys should be filled, but at least simulation name one has to be added before creating the metadata\n",
    "# This is due to how the database looks for existing simulations (see above)\n",
    "\n",
    "mdata_n['simulation_name'] = 'THC_fake_test_run'\n",
    "mdata_r['simulation_name'] = 'MS1b_1.375_1.375_0.11_0.00_0.0348_0.167'\n",
    "\n",
    "# Other information should be added now, but can in principle be also added later on by manipulating the dictionary\n",
    "\n",
    "mdata_n['id_eos'] = 'BLh'\n",
    "mdata_r['evolution_code'] = 'bam_14.07'"
   ]
  },
  {
   "cell_type": "markdown",
   "metadata": {},
   "source": [
    "* Now we split the cases: if the entry is a new one, we need to create a *metadata_main.txt* file in the database entry directory"
   ]
  },
  {
   "cell_type": "code",
   "execution_count": 14,
   "metadata": {},
   "outputs": [
    {
     "name": "stdout",
     "output_type": "stream",
     "text": [
      "Working on database model...\n",
      "No .h5 file found!\n",
      "No .h5 file found!\n"
     ]
    }
   ],
   "source": [
    "md_s = new_sim.create_metadata(mdata_n)\n",
    "#md_r = new_sim.runs['R01'].create_metadata(mdata_n)"
   ]
  },
  {
   "cell_type": "markdown",
   "metadata": {},
   "source": [
    "* Otherwise, we just add the new resolution to the existing metadata by getting them again and updating"
   ]
  },
  {
   "cell_type": "code",
   "execution_count": 13,
   "metadata": {},
   "outputs": [
    {
     "name": "stdout",
     "output_type": "stream",
     "text": [
      "No .h5 file found!\n",
      "No .h5 file found!\n",
      "No .h5 file found!\n",
      "Working on database model...\n"
     ]
    }
   ],
   "source": [
    "md = rep_sim.get_metadata()\n",
    "# We add the new resolution run to the available_resolutions key\n",
    "md['available_resolutions'] += ', R03'\n",
    "rep_sim.update_metadata(md)\n",
    "\n",
    "# Then we create the metadata for the new run\n",
    "rep_sim.runs['R03'].create_metadata()\n"
   ]
  },
  {
   "cell_type": "markdown",
   "metadata": {},
   "source": [
    "Now that we are set up, different codes have a slightly different procedure to follow\n",
    "\n",
    "### 2.1 WhiskyTHC\n",
    "\n",
    "First, we need to fefine the simulation source directory,  the run parameters and the correct regular expression for the files we want to collect\n"
   ]
  },
  {
   "cell_type": "code",
   "execution_count": 4,
   "metadata": {},
   "outputs": [],
   "source": [
    "# Path\n",
    "simpath = '/data/aendrizzi/BLh_M10201856_M0_LK_LR/'\n",
    "\n",
    "# Run parameters (can be found in sim.mdata dictionary too)\n",
    "m1      = 1.020\n",
    "m2      = 1.856\n",
    "m_adm   = 2.850\n",
    "j_adm   = 7.406\n",
    "\n",
    "# Regular expression\n",
    "rf = r'mp_Psi4_l\\d_m\\d_r(\\d+).00.asc'"
   ]
  },
  {
   "cell_type": "markdown",
   "metadata": {},
   "source": [
    "Now we loop over all files in the first output directory to find which radii and which multipoles are available"
   ]
  },
  {
   "cell_type": "code",
   "execution_count": 5,
   "metadata": {},
   "outputs": [],
   "source": [
    "files = []\n",
    "\n",
    "for f in os.listdir(simpath+'output-0000/data/'):\n",
    "    if re.match(rf, f):\n",
    "        files.append(f)\n",
    "    #\n",
    "#"
   ]
  },
  {
   "cell_type": "markdown",
   "metadata": {},
   "source": [
    "Now we load the multipoles with the appropriate class and save $\\Psi_4$, $h_{2,2}$ and the waveform energetics (not a WhickyTHC standard output!)"
   ]
  },
  {
   "cell_type": "code",
   "execution_count": 7,
   "metadata": {},
   "outputs": [],
   "source": [
    "from base.wave import * \n",
    "\n",
    "mpls = mwaves(path=simpath, code='cactus', filenames=files, \n",
    "              mass=2.876, f0=576.*HZ_CU, ignore_negative_m=True)\n",
    "\n",
    "for rad in mpls.radii:\n",
    "    mpls.energetics(m1, m2, m_adm, j_adm, radius=rad, txt_out='yes')\n",
    "    gw22 = mpls.get(l=2,m=2,r=rad)\n",
    "    gw22.write_to_txt('Psi4')\n",
    "    gw22.write_to_txt('h')\n",
    "#"
   ]
  },
  {
   "cell_type": "markdown",
   "metadata": {},
   "source": [
    "We can now proceed with the creation of the HDF5 archive using the CoRe simulation object we previously created."
   ]
  },
  {
   "cell_type": "code",
   "execution_count": 15,
   "metadata": {},
   "outputs": [],
   "source": [
    "new_run = new_sim.runs['R01']\n",
    "\n",
    "new_run.h5.create(path=new_run.path)\n",
    "# This creates the .txt files in the working directory, unless the user specifies the flag clean_txt=True"
   ]
  },
  {
   "cell_type": "markdown",
   "metadata": {},
   "source": [
    "We should now also create the metadata file for the specific run we just created the waveform archive for."
   ]
  },
  {
   "cell_type": "code",
   "execution_count": 16,
   "metadata": {},
   "outputs": [
    {
     "name": "stdout",
     "output_type": "stream",
     "text": [
      "Woking on database run...\n"
     ]
    },
    {
     "data": {
      "text/plain": [
       "{'database_key': 'THC_0037',\n",
       " 'simulation_name': 'THC_fake_test_run',\n",
       " 'reference_bibkeys': 'None',\n",
       " 'id_code': 'None',\n",
       " 'id_type': 'None',\n",
       " 'id_mass': 'None',\n",
       " 'id_rest_mass': 'None',\n",
       " 'id_mass_ratio': 'None',\n",
       " 'id_ADM_mass': 'None',\n",
       " 'id_ADM_angularmomentum': 'None',\n",
       " 'id_gw_frequency_Hz': 'None',\n",
       " 'id_gw_frequency_Momega22': 'None',\n",
       " 'id_eos': 'BLh',\n",
       " 'id_kappa2T': 'None',\n",
       " 'id_Lambda': 'None',\n",
       " 'id_mass_starA': 'None',\n",
       " 'id_rest_mass_starA': 'None',\n",
       " 'id_spin_starA': 'None',\n",
       " 'id_LoveNum_kell_starA': 'None',\n",
       " 'id_Lambdaell_starA': 'None',\n",
       " 'id_mass_starB': 'None',\n",
       " 'id_rest_mass_starB': 'None',\n",
       " 'id_spin_starB': 'None',\n",
       " 'id_LoveNum_kell_starB': 'None',\n",
       " 'id_Lambdaell_starB': 'None',\n",
       " 'evolution_code': 'None',\n",
       " 'grid_refinement_levels': 'None',\n",
       " 'grid_refinement_levels_moving': 'None',\n",
       " 'grid_refinement_levels_npoints': 'None',\n",
       " 'grid_refinement_levels_moving_npoints': 'None',\n",
       " 'grid_spacing_min': 'None',\n",
       " 'grid_symmetries': 'None',\n",
       " 'grid_shells': 'None',\n",
       " 'grid_shells_radial_npoints': 'None',\n",
       " 'grid_shells_angular_npoints': 'None',\n",
       " 'grid_conservative_amr': 'None',\n",
       " 'metric_scheme': 'None',\n",
       " 'metric_boundary_conditions': 'None',\n",
       " 'hydro_flux': 'None',\n",
       " 'hydro_reconstruction': 'None',\n",
       " 'hydro_atmosphere_level': 'None',\n",
       " 'hydro_atmosphere_factor': 'None',\n",
       " 'number_of_orbits': 'None',\n",
       " 'evolution_mol_scheme': 'None',\n",
       " 'eos_evolution_Gamma_thermal': 'None'}"
      ]
     },
     "execution_count": 16,
     "metadata": {},
     "output_type": "execute_result"
    }
   ],
   "source": [
    "new_run.create_metadata(new_dict=mdata_n)"
   ]
  },
  {
   "cell_type": "markdown",
   "metadata": {},
   "source": [
    "### BAM \n",
    "\n",
    "The procedure for BAM is very similar. The changes affect the regular expression for waveform output "
   ]
  },
  {
   "cell_type": "code",
   "execution_count": null,
   "metadata": {},
   "outputs": [],
   "source": [
    "rf_bam = r'(\\w+)mode(\\d)(m?)(\\d)_r(\\d+).l(\\d+)'"
   ]
  },
  {
   "cell_type": "markdown",
   "metadata": {},
   "source": [
    "And the path to walk to find the available multipoles and extraction radii"
   ]
  },
  {
   "cell_type": "code",
   "execution_count": null,
   "metadata": {},
   "outputs": [],
   "source": [
    "files_bam = []\n",
    "\n",
    "for f in os.listdir(os.path.join(simpath,'Scalars')):\n",
    "    if re.match(rf_bam, f):\n",
    "        files_bam.append(f)\n",
    "    #\n",
    "#"
   ]
  },
  {
   "cell_type": "markdown",
   "metadata": {},
   "source": [
    "Now that the simulation data has been properly formatted one can proceed to check that everything works as intended and *git add / commit / push* the changes to the virtual machine holding the Core Database."
   ]
  },
  {
   "cell_type": "markdown",
   "metadata": {},
   "source": [
    "## 3. Waveform analysis tools\n",
    "\n",
    "*Classes from base/wave.py*\n",
    "\n",
    "Assuming we want to analyze the same run we loaded previously, if the data has been extracted already, we can use the *wave* module to load the single files"
   ]
  },
  {
   "cell_type": "code",
   "execution_count": 12,
   "metadata": {},
   "outputs": [],
   "source": [
    "from base.wave import *\n",
    "\n",
    "run = r01.mdata\n",
    "\n",
    "ej =  wave(path=r01.path, code='core', filename='EJ_r00700.txt',\n",
    "          mass=run['id_mass'], f0=float(run['id_gw_frequency_Hz'])*HZ_CU)\n",
    "\n",
    "gw  = wave(path=r01.path, code='core', filename='Rh_l2_m2_r00700.txt',\n",
    "          mass=run['id_mass'], f0=float(run['id_gw_frequency_Hz'])*HZ_CU)"
   ]
  },
  {
   "cell_type": "code",
   "execution_count": 13,
   "metadata": {
    "scrolled": false
   },
   "outputs": [
    {
     "data": {
      "image/png": "[encoded data removed]",
      "text/plain": [
       "<Figure size 432x288 with 1 Axes>"
      ]
     },
     "metadata": {
      "needs_background": "light"
     },
     "output_type": "display_data"
    }
   ],
   "source": [
    "from matplotlib import pyplot as plt\n",
    "\n",
    "# Set appropriate size for legend entries\n",
    "params = {'legend.fontsize': 14,\n",
    "          'legend.handlelength': 2}\n",
    "plt.rcParams.update(params)\n",
    "\n",
    "u = gw.time\n",
    "a = gw.amplitude('h')\n",
    "h = gw.h\n",
    "\n",
    "plt.plot(u, a, color='#1f77b4', linewidth=2, linestyle='--',\n",
    "        label='amplitude')\n",
    "plt.plot(u,h.real, color='#1f77b4', label='strain')\n",
    "plt.xlabel('time', fontsize=14)\n",
    "plt.ylabel('h', fontsize=14)\n",
    "plt.legend(ncol=1, loc='upper right')\n",
    "plt.xlim([u.min(), u.max()]);"
   ]
  },
  {
   "cell_type": "code",
   "execution_count": null,
   "metadata": {},
   "outputs": [],
   "source": []
  }
 ],
 "metadata": {
  "kernelspec": {
   "display_name": "Python 3",
   "language": "python",
   "name": "python3"
  },
  "language_info": {
   "codemirror_mode": {
    "name": "ipython",
    "version": 3
   },
   "file_extension": ".py",
   "mimetype": "text/x-python",
   "name": "python",
   "nbconvert_exporter": "python",
   "pygments_lexer": "ipython3",
   "version": "3.8.5"
  }
 },
 "nbformat": 4,
 "nbformat_minor": 2
}
